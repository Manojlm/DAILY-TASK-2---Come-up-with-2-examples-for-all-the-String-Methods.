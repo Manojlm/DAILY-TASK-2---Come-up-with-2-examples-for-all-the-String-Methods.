{
 "cells": [
  {
   "cell_type": "markdown",
   "id": "e63d32c4",
   "metadata": {},
   "source": [
    "## 2.Come up with 2 examples for  10 String Methods."
   ]
  },
  {
   "cell_type": "markdown",
   "id": "dfc5d51f",
   "metadata": {},
   "source": [
    "## Python String Methods\n",
    "A string is a sequence of characters enclosed in quotation marks. In this reference page, you will find all the methods that a string object can call. For example, you can use the join() method to concatenate two strings."
   ]
  },
  {
   "cell_type": "markdown",
   "id": "c2b54c28",
   "metadata": {},
   "source": [
    "### 11. Python String isalnum()\n",
    "The isalnum() method returns True if all characters in the string are alphanumeric (either alphabets or numbers). If not, it returns False.\n"
   ]
  },
  {
   "cell_type": "code",
   "execution_count": 3,
   "id": "65b0c922",
   "metadata": {},
   "outputs": [],
   "source": [
    "#Example-1\n",
    "name = 'manoj355'"
   ]
  },
  {
   "cell_type": "code",
   "execution_count": 4,
   "id": "048d1e2a",
   "metadata": {
    "scrolled": true
   },
   "outputs": [
    {
     "data": {
      "text/plain": [
       "True"
      ]
     },
     "execution_count": 4,
     "metadata": {},
     "output_type": "execute_result"
    }
   ],
   "source": [
    "name.isalnum()"
   ]
  },
  {
   "cell_type": "code",
   "execution_count": 5,
   "id": "33901e40",
   "metadata": {},
   "outputs": [],
   "source": [
    "name2 = 'manojmanjunath'"
   ]
  },
  {
   "cell_type": "code",
   "execution_count": 6,
   "id": "48b59939",
   "metadata": {},
   "outputs": [
    {
     "data": {
      "text/plain": [
       "True"
      ]
     },
     "execution_count": 6,
     "metadata": {},
     "output_type": "execute_result"
    }
   ],
   "source": [
    "name2.isalnum()"
   ]
  },
  {
   "cell_type": "code",
   "execution_count": 7,
   "id": "ffb9f13e",
   "metadata": {},
   "outputs": [],
   "source": [
    "name3 = '7619582955'"
   ]
  },
  {
   "cell_type": "code",
   "execution_count": 8,
   "id": "0a7865f8",
   "metadata": {
    "scrolled": false
   },
   "outputs": [
    {
     "data": {
      "text/plain": [
       "True"
      ]
     },
     "execution_count": 8,
     "metadata": {},
     "output_type": "execute_result"
    }
   ],
   "source": [
    "name3.isalnum()"
   ]
  },
  {
   "cell_type": "code",
   "execution_count": 9,
   "id": "4e7e43e1",
   "metadata": {},
   "outputs": [],
   "source": [
    "name4 = 'Manoj 2955'"
   ]
  },
  {
   "cell_type": "code",
   "execution_count": 10,
   "id": "5ab709ed",
   "metadata": {},
   "outputs": [
    {
     "data": {
      "text/plain": [
       "False"
      ]
     },
     "execution_count": 10,
     "metadata": {},
     "output_type": "execute_result"
    }
   ],
   "source": [
    "name4.isalnum()"
   ]
  },
  {
   "cell_type": "markdown",
   "id": "5372df3e",
   "metadata": {},
   "source": [
    "Inference :\n",
    "- There is whitespcae in that string that's why output it has giving output as False."
   ]
  },
  {
   "cell_type": "markdown",
   "id": "d0cd18f9",
   "metadata": {},
   "source": [
    "## 12.Python string  isalpha()\n",
    "\n",
    "The isalpha() returns:\n",
    "\n",
    "- True if all characters in the string are alphabets (can be both lowercase and uppercase).\n",
    "- False if at least one character is not alphabet."
   ]
  },
  {
   "cell_type": "code",
   "execution_count": 3,
   "id": "9b320480",
   "metadata": {},
   "outputs": [],
   "source": [
    "#Example- 1\n",
    "Farmer = 'Manojh'"
   ]
  },
  {
   "cell_type": "code",
   "execution_count": 4,
   "id": "d6e6426e",
   "metadata": {},
   "outputs": [
    {
     "data": {
      "text/plain": [
       "True"
      ]
     },
     "execution_count": 4,
     "metadata": {},
     "output_type": "execute_result"
    }
   ],
   "source": [
    "Farmer.isalpha()"
   ]
  },
  {
   "cell_type": "code",
   "execution_count": 5,
   "id": "9d608e0d",
   "metadata": {},
   "outputs": [],
   "source": [
    "Farmer2 = 'Manoj ' "
   ]
  },
  {
   "cell_type": "code",
   "execution_count": 6,
   "id": "42255589",
   "metadata": {},
   "outputs": [
    {
     "data": {
      "text/plain": [
       "False"
      ]
     },
     "execution_count": 6,
     "metadata": {},
     "output_type": "execute_result"
    }
   ],
   "source": [
    "Farmer2.isalpha()"
   ]
  },
  {
   "cell_type": "markdown",
   "id": "0690a053",
   "metadata": {},
   "source": [
    "### Inference: \n",
    "- Theris is one white space included in the string Farmer2 sop that's why it is throwing output as 'False'"
   ]
  },
  {
   "cell_type": "code",
   "execution_count": 16,
   "id": "c743a8f8",
   "metadata": {},
   "outputs": [],
   "source": [
    "#Example-2\n",
    "Student = 'Manoj'"
   ]
  },
  {
   "cell_type": "code",
   "execution_count": 18,
   "id": "f63d8601",
   "metadata": {},
   "outputs": [
    {
     "data": {
      "text/plain": [
       "True"
      ]
     },
     "execution_count": 18,
     "metadata": {},
     "output_type": "execute_result"
    }
   ],
   "source": [
    "Student.isalpha()"
   ]
  },
  {
   "cell_type": "code",
   "execution_count": 14,
   "id": "66f145ed",
   "metadata": {},
   "outputs": [],
   "source": [
    "student1 = 'Manoj2955'"
   ]
  },
  {
   "cell_type": "code",
   "execution_count": 20,
   "id": "2ccc9072",
   "metadata": {},
   "outputs": [
    {
     "data": {
      "text/plain": [
       "False"
      ]
     },
     "execution_count": 20,
     "metadata": {},
     "output_type": "execute_result"
    }
   ],
   "source": [
    "student1.isalpha()"
   ]
  },
  {
   "cell_type": "markdown",
   "id": "8c076a02",
   "metadata": {},
   "source": [
    "### Infernce:\n",
    "- See above output it has showing False because there is numeric values included with alphabets."
   ]
  },
  {
   "cell_type": "markdown",
   "id": "9e4b70d9",
   "metadata": {},
   "source": [
    "## 13. Python String isdecimal()\n",
    "\n",
    "The isdecimal() returns:\n",
    "\n",
    "- True if all characters in the string are decimal characters.\n",
    "- False if at least one character is not decimal character."
   ]
  },
  {
   "cell_type": "code",
   "execution_count": 23,
   "id": "e6ed7cd1",
   "metadata": {},
   "outputs": [],
   "source": [
    "#Example -1\n",
    "Marks = '100'"
   ]
  },
  {
   "cell_type": "code",
   "execution_count": 24,
   "id": "afed0be2",
   "metadata": {},
   "outputs": [
    {
     "data": {
      "text/plain": [
       "True"
      ]
     },
     "execution_count": 24,
     "metadata": {},
     "output_type": "execute_result"
    }
   ],
   "source": [
    "Marks.isdecimal()"
   ]
  },
  {
   "cell_type": "code",
   "execution_count": 26,
   "id": "7799f848",
   "metadata": {},
   "outputs": [],
   "source": [
    "marks2 = '100A'"
   ]
  },
  {
   "cell_type": "code",
   "execution_count": 27,
   "id": "a3c492a0",
   "metadata": {},
   "outputs": [
    {
     "data": {
      "text/plain": [
       "False"
      ]
     },
     "execution_count": 27,
     "metadata": {},
     "output_type": "execute_result"
    }
   ],
   "source": [
    "marks2.isdecimal()"
   ]
  },
  {
   "cell_type": "markdown",
   "id": "8ec07f21",
   "metadata": {},
   "source": [
    "#### Inference:\n",
    "- In that marks2 string we have given input '100A' that includes numberic and alpha characters,so it is not in the form of decimal that's why output it is showing 'False',"
   ]
  },
  {
   "cell_type": "code",
   "execution_count": 29,
   "id": "0b1bb4b7",
   "metadata": {},
   "outputs": [],
   "source": [
    "#Example -2 \n",
    "value = '15000'"
   ]
  },
  {
   "cell_type": "code",
   "execution_count": 30,
   "id": "81626fa8",
   "metadata": {},
   "outputs": [
    {
     "data": {
      "text/plain": [
       "True"
      ]
     },
     "execution_count": 30,
     "metadata": {},
     "output_type": "execute_result"
    }
   ],
   "source": [
    "value.isdecimal()"
   ]
  },
  {
   "cell_type": "code",
   "execution_count": 31,
   "id": "e0dbad1f",
   "metadata": {},
   "outputs": [],
   "source": [
    "value2 = '152553d153486'"
   ]
  },
  {
   "cell_type": "code",
   "execution_count": 33,
   "id": "e8d4d4e0",
   "metadata": {},
   "outputs": [
    {
     "data": {
      "text/plain": [
       "False"
      ]
     },
     "execution_count": 33,
     "metadata": {},
     "output_type": "execute_result"
    }
   ],
   "source": [
    "value2.isdecimal()"
   ]
  },
  {
   "cell_type": "markdown",
   "id": "e1569b74",
   "metadata": {},
   "source": [
    "## 14.Python String isdigit()\n",
    "\n",
    "The isdigit() method returns True if all characters in a string are digits. If not, it returns False."
   ]
  },
  {
   "cell_type": "code",
   "execution_count": 38,
   "id": "559bdc4c",
   "metadata": {},
   "outputs": [],
   "source": [
    "#Example-1\n",
    "string = '1525589'"
   ]
  },
  {
   "cell_type": "code",
   "execution_count": 35,
   "id": "8790c721",
   "metadata": {},
   "outputs": [
    {
     "data": {
      "text/plain": [
       "True"
      ]
     },
     "execution_count": 35,
     "metadata": {},
     "output_type": "execute_result"
    }
   ],
   "source": [
    "string.isdigit()"
   ]
  },
  {
   "cell_type": "code",
   "execution_count": 36,
   "id": "593bd681",
   "metadata": {},
   "outputs": [],
   "source": [
    "string1 = 'Manoj125564'"
   ]
  },
  {
   "cell_type": "code",
   "execution_count": 37,
   "id": "114b73f6",
   "metadata": {},
   "outputs": [
    {
     "data": {
      "text/plain": [
       "False"
      ]
     },
     "execution_count": 37,
     "metadata": {},
     "output_type": "execute_result"
    }
   ],
   "source": [
    "string1.isdigit()"
   ]
  },
  {
   "cell_type": "code",
   "execution_count": 39,
   "id": "79e0aeda",
   "metadata": {},
   "outputs": [],
   "source": [
    "#Example-2\n",
    "name = 'Manoj LM'"
   ]
  },
  {
   "cell_type": "code",
   "execution_count": 40,
   "id": "5801d49d",
   "metadata": {},
   "outputs": [
    {
     "data": {
      "text/plain": [
       "False"
      ]
     },
     "execution_count": 40,
     "metadata": {},
     "output_type": "execute_result"
    }
   ],
   "source": [
    "name.isdigit()"
   ]
  },
  {
   "cell_type": "code",
   "execution_count": 41,
   "id": "c1a80482",
   "metadata": {},
   "outputs": [],
   "source": [
    "name1 = '7619582955'"
   ]
  },
  {
   "cell_type": "code",
   "execution_count": 42,
   "id": "100195e1",
   "metadata": {},
   "outputs": [
    {
     "data": {
      "text/plain": [
       "True"
      ]
     },
     "execution_count": 42,
     "metadata": {},
     "output_type": "execute_result"
    }
   ],
   "source": [
    "name1.isdigit()"
   ]
  },
  {
   "cell_type": "markdown",
   "id": "fedfba1c",
   "metadata": {},
   "source": [
    "## 15.Python String isidentifier()\n",
    "The syntax of isidentifier() is:"
   ]
  },
  {
   "cell_type": "markdown",
   "id": "1e45158f",
   "metadata": {},
   "source": [
    "### isidentifier() Paramters\n",
    "- The isidentifier() method doesn't take any parameters.\n",
    "\n",
    "Return Value from isidentifier()\n",
    "The isidentifier() method returns:\n",
    "\n",
    "- True if the string is a valid identifier\n",
    "- False if the string is not a invalid identifier"
   ]
  },
  {
   "cell_type": "code",
   "execution_count": 47,
   "id": "8785736f",
   "metadata": {},
   "outputs": [],
   "source": [
    "#Example-1\n",
    "variable = 'Manoj LM'"
   ]
  },
  {
   "cell_type": "code",
   "execution_count": 48,
   "id": "baf0148a",
   "metadata": {},
   "outputs": [
    {
     "data": {
      "text/plain": [
       "False"
      ]
     },
     "execution_count": 48,
     "metadata": {},
     "output_type": "execute_result"
    }
   ],
   "source": [
    "variable.isidentifier()"
   ]
  },
  {
   "cell_type": "code",
   "execution_count": 49,
   "id": "1aa1f9e0",
   "metadata": {},
   "outputs": [],
   "source": [
    "variable1 = 'Manojlm'"
   ]
  },
  {
   "cell_type": "code",
   "execution_count": 50,
   "id": "fd79921f",
   "metadata": {},
   "outputs": [
    {
     "data": {
      "text/plain": [
       "True"
      ]
     },
     "execution_count": 50,
     "metadata": {},
     "output_type": "execute_result"
    }
   ],
   "source": [
    "variable1.isidentifier()"
   ]
  },
  {
   "cell_type": "code",
   "execution_count": 2,
   "id": "01ac1872",
   "metadata": {},
   "outputs": [],
   "source": [
    "#Example-2\n",
    "var = '123456789'"
   ]
  },
  {
   "cell_type": "code",
   "execution_count": 3,
   "id": "1a534545",
   "metadata": {},
   "outputs": [
    {
     "data": {
      "text/plain": [
       "False"
      ]
     },
     "execution_count": 3,
     "metadata": {},
     "output_type": "execute_result"
    }
   ],
   "source": [
    "var.isidentifier()"
   ]
  },
  {
   "cell_type": "code",
   "execution_count": 4,
   "id": "f6fbfd24",
   "metadata": {},
   "outputs": [],
   "source": [
    "var1 = 'appo34568'"
   ]
  },
  {
   "cell_type": "code",
   "execution_count": 5,
   "id": "e67825ce",
   "metadata": {},
   "outputs": [
    {
     "data": {
      "text/plain": [
       "True"
      ]
     },
     "execution_count": 5,
     "metadata": {},
     "output_type": "execute_result"
    }
   ],
   "source": [
    "var1.isidentifier()"
   ]
  },
  {
   "cell_type": "markdown",
   "id": "3812c75c",
   "metadata": {},
   "source": [
    "## 16.Python String islower()\n",
    "The syntax of islower() is:"
   ]
  },
  {
   "cell_type": "markdown",
   "id": "faf9d50c",
   "metadata": {},
   "source": [
    "### Return Value from islower()\n",
    "The islower() method returns:\n",
    "\n",
    "- True if all alphabets that exist in the string are lowercase alphabets.\n",
    "- False if the string contains at least one uppercase alphabet."
   ]
  },
  {
   "cell_type": "code",
   "execution_count": 6,
   "id": "d9503a40",
   "metadata": {},
   "outputs": [],
   "source": [
    "#Example-1\n",
    "name = 'Manoj'"
   ]
  },
  {
   "cell_type": "code",
   "execution_count": 7,
   "id": "129337bb",
   "metadata": {},
   "outputs": [
    {
     "data": {
      "text/plain": [
       "False"
      ]
     },
     "execution_count": 7,
     "metadata": {},
     "output_type": "execute_result"
    }
   ],
   "source": [
    "name.islower()"
   ]
  },
  {
   "cell_type": "code",
   "execution_count": 8,
   "id": "ae6357c9",
   "metadata": {},
   "outputs": [],
   "source": [
    "name1 = 'manoj lm, he is an upcoming data scientist'"
   ]
  },
  {
   "cell_type": "code",
   "execution_count": 9,
   "id": "f3605520",
   "metadata": {},
   "outputs": [
    {
     "data": {
      "text/plain": [
       "True"
      ]
     },
     "execution_count": 9,
     "metadata": {},
     "output_type": "execute_result"
    }
   ],
   "source": [
    "name1.islower()"
   ]
  },
  {
   "cell_type": "code",
   "execution_count": 10,
   "id": "05299d6c",
   "metadata": {},
   "outputs": [],
   "source": [
    "#Example-2\n",
    "string = 'moyonise is one of the food item'"
   ]
  },
  {
   "cell_type": "code",
   "execution_count": 11,
   "id": "17881f9e",
   "metadata": {},
   "outputs": [
    {
     "data": {
      "text/plain": [
       "True"
      ]
     },
     "execution_count": 11,
     "metadata": {},
     "output_type": "execute_result"
    }
   ],
   "source": [
    "string.islower()"
   ]
  },
  {
   "cell_type": "code",
   "execution_count": 13,
   "id": "fed7b6c7",
   "metadata": {},
   "outputs": [],
   "source": [
    "string1 = 'moyonise is one of the fooD item'"
   ]
  },
  {
   "cell_type": "code",
   "execution_count": 14,
   "id": "e7cd8dc3",
   "metadata": {},
   "outputs": [
    {
     "data": {
      "text/plain": [
       "False"
      ]
     },
     "execution_count": 14,
     "metadata": {},
     "output_type": "execute_result"
    }
   ],
   "source": [
    "string1.islower()"
   ]
  },
  {
   "cell_type": "markdown",
   "id": "17987cf8",
   "metadata": {},
   "source": [
    "## 17.Python String isnumeric()\n",
    "The isnumeric() method checks if all the characters in the string are numeric.\n",
    "\n",
    "Example"
   ]
  },
  {
   "cell_type": "code",
   "execution_count": 15,
   "id": "413352c9",
   "metadata": {},
   "outputs": [],
   "source": [
    "#Example-1\n",
    "var = 'string'"
   ]
  },
  {
   "cell_type": "code",
   "execution_count": 16,
   "id": "2c633cbb",
   "metadata": {},
   "outputs": [
    {
     "data": {
      "text/plain": [
       "False"
      ]
     },
     "execution_count": 16,
     "metadata": {},
     "output_type": "execute_result"
    }
   ],
   "source": [
    "var.isnumeric()"
   ]
  },
  {
   "cell_type": "code",
   "execution_count": 17,
   "id": "9647903d",
   "metadata": {},
   "outputs": [],
   "source": [
    "var1 = '76195826955'"
   ]
  },
  {
   "cell_type": "code",
   "execution_count": 18,
   "id": "871b7133",
   "metadata": {},
   "outputs": [
    {
     "data": {
      "text/plain": [
       "True"
      ]
     },
     "execution_count": 18,
     "metadata": {},
     "output_type": "execute_result"
    }
   ],
   "source": [
    "var1.isnumeric()"
   ]
  },
  {
   "cell_type": "code",
   "execution_count": 19,
   "id": "8a84900e",
   "metadata": {},
   "outputs": [],
   "source": [
    "#Example-2\n",
    "variable = 'My name is manoj'"
   ]
  },
  {
   "cell_type": "code",
   "execution_count": 20,
   "id": "1cfa325e",
   "metadata": {},
   "outputs": [
    {
     "data": {
      "text/plain": [
       "False"
      ]
     },
     "execution_count": 20,
     "metadata": {},
     "output_type": "execute_result"
    }
   ],
   "source": [
    "variable.isnumeric()"
   ]
  },
  {
   "cell_type": "code",
   "execution_count": 21,
   "id": "63aac719",
   "metadata": {},
   "outputs": [],
   "source": [
    "variable1 = '123456   76598'"
   ]
  },
  {
   "cell_type": "code",
   "execution_count": 22,
   "id": "871d5680",
   "metadata": {},
   "outputs": [
    {
     "data": {
      "text/plain": [
       "False"
      ]
     },
     "execution_count": 22,
     "metadata": {},
     "output_type": "execute_result"
    }
   ],
   "source": [
    "variable1.isnumeric()"
   ]
  },
  {
   "cell_type": "code",
   "execution_count": 23,
   "id": "9daa2a17",
   "metadata": {},
   "outputs": [],
   "source": [
    "variable2 = '7619582955'"
   ]
  },
  {
   "cell_type": "code",
   "execution_count": 24,
   "id": "e40462cd",
   "metadata": {},
   "outputs": [],
   "source": [
    "variable3 = 'My contact number is 7619582955'"
   ]
  },
  {
   "cell_type": "code",
   "execution_count": 25,
   "id": "4807d41b",
   "metadata": {},
   "outputs": [
    {
     "data": {
      "text/plain": [
       "False"
      ]
     },
     "execution_count": 25,
     "metadata": {},
     "output_type": "execute_result"
    }
   ],
   "source": [
    "variable3.isnumeric()"
   ]
  },
  {
   "cell_type": "markdown",
   "id": "53368ec2",
   "metadata": {},
   "source": [
    "## 18. Python String isprintable()\n",
    "The isprintable() method returns True if all characters in the string are printable. If not, it returns False."
   ]
  },
  {
   "cell_type": "code",
   "execution_count": 26,
   "id": "83734185",
   "metadata": {},
   "outputs": [],
   "source": [
    "x = 'my cousrse is data science'"
   ]
  },
  {
   "cell_type": "code",
   "execution_count": 27,
   "id": "e33e58ce",
   "metadata": {},
   "outputs": [
    {
     "data": {
      "text/plain": [
       "True"
      ]
     },
     "execution_count": 27,
     "metadata": {},
     "output_type": "execute_result"
    }
   ],
   "source": [
    "x.isprintable()"
   ]
  },
  {
   "cell_type": "code",
   "execution_count": 28,
   "id": "c6cf8f1f",
   "metadata": {},
   "outputs": [],
   "source": [
    "y = 'my course is 123456789'"
   ]
  },
  {
   "cell_type": "code",
   "execution_count": 29,
   "id": "dfd7daab",
   "metadata": {},
   "outputs": [
    {
     "data": {
      "text/plain": [
       "True"
      ]
     },
     "execution_count": 29,
     "metadata": {},
     "output_type": "execute_result"
    }
   ],
   "source": [
    "y.isprintable()"
   ]
  },
  {
   "cell_type": "code",
   "execution_count": 30,
   "id": "81231205",
   "metadata": {},
   "outputs": [],
   "source": [
    "x1 = '7619582955'"
   ]
  },
  {
   "cell_type": "code",
   "execution_count": 31,
   "id": "b0312b19",
   "metadata": {},
   "outputs": [
    {
     "data": {
      "text/plain": [
       "True"
      ]
     },
     "execution_count": 31,
     "metadata": {},
     "output_type": "execute_result"
    }
   ],
   "source": [
    "x1.isprintable()"
   ]
  },
  {
   "cell_type": "markdown",
   "id": "55bde10f",
   "metadata": {},
   "source": [
    "## 19. Python String isspace()\n",
    "Characters that are used for spacing are called whitespace characters. For example: tabs, spaces, newline, etc."
   ]
  },
  {
   "cell_type": "code",
   "execution_count": 34,
   "id": "59cf2ea0",
   "metadata": {},
   "outputs": [],
   "source": [
    "lib = ' python string isspace'"
   ]
  },
  {
   "cell_type": "code",
   "execution_count": 35,
   "id": "02e218d4",
   "metadata": {},
   "outputs": [
    {
     "data": {
      "text/plain": [
       "False"
      ]
     },
     "execution_count": 35,
     "metadata": {},
     "output_type": "execute_result"
    }
   ],
   "source": [
    "lib.isspace()"
   ]
  }
 ],
 "metadata": {
  "kernelspec": {
   "display_name": "Python 3 (ipykernel)",
   "language": "python",
   "name": "python3"
  },
  "language_info": {
   "codemirror_mode": {
    "name": "ipython",
    "version": 3
   },
   "file_extension": ".py",
   "mimetype": "text/x-python",
   "name": "python",
   "nbconvert_exporter": "python",
   "pygments_lexer": "ipython3",
   "version": "3.11.3"
  }
 },
 "nbformat": 4,
 "nbformat_minor": 5
}
